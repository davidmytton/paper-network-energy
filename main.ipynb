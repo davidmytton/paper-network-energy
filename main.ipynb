{
 "cells": [
  {
   "cell_type": "markdown",
   "metadata": {},
   "source": [
    "# Network energy\n",
    "\n",
    "Initial implementation of the models defined in the [Carbon Impact of Video\n",
    "Streaming report from The Carbon Trust (June\n",
    "2021)](https://www.carbontrust.com/resources/carbon-impact-of-video-streaming).\n",
    "The purpose of this notebook is to fully reproduce the model.\n",
    "\n",
    "A breakdown of the results from the conventional model is provided in Table 4 \n",
    "on pg 52 of the report."
   ]
  },
  {
   "cell_type": "markdown",
   "metadata": {},
   "source": [
    "## Imports"
   ]
  },
  {
   "cell_type": "code",
   "execution_count": 24,
   "metadata": {},
   "outputs": [],
   "source": [
    "%%capture\n",
    "# ^ Hide the output of this cell (must be on the first line)\n",
    "\n",
    "# Install dependencies\n",
    "%pip install -r requirements.txt"
   ]
  },
  {
   "cell_type": "markdown",
   "metadata": {},
   "source": [
    "## Global parameters"
   ]
  },
  {
   "cell_type": "code",
   "execution_count": 25,
   "metadata": {},
   "outputs": [],
   "source": [
    "durationStreaming = 1  # Duration of video streaming (D) Probably hours, not specified\n",
    "dataTransmissionRate = (\n",
    "    3  # Data transmission rate (R) GB/hr Using FHD value, not specified (pg43, Table 3)\n",
    ")"
   ]
  },
  {
   "cell_type": "markdown",
   "metadata": {},
   "source": [
    "## Conventional model\n",
    "\n",
    "Carbon Trust report pg40-46."
   ]
  },
  {
   "cell_type": "markdown",
   "metadata": {},
   "source": [
    "### Global parameters"
   ]
  },
  {
   "cell_type": "code",
   "execution_count": 26,
   "metadata": {},
   "outputs": [],
   "source": [
    "energyVideoStreaming = float  # Energy consumption of video streaming (E_V)\n",
    "carbonVideoStreaming = float  # Carbon emissions of video streaming (C_V)\n",
    "gridEmissionsFactor = 1  # ??? Emissions factor of the grid for region, n (EF_g,n)"
   ]
  },
  {
   "cell_type": "markdown",
   "metadata": {},
   "source": [
    "### Data centers & CDNs\n",
    "\n",
    "Carbon Trust value = 1 Wh/hour."
   ]
  },
  {
   "cell_type": "code",
   "execution_count": 27,
   "metadata": {},
   "outputs": [],
   "source": [
    "dataCenterEnergy = float  # Data center energy consumption (E_DC)\n",
    "dataCenterIntensity = 1.3  # Data center intensity (I_DC) Wh/hr (pg43, Table 3)"
   ]
  },
  {
   "cell_type": "code",
   "execution_count": 28,
   "metadata": {},
   "outputs": [
    {
     "data": {
      "text/plain": [
       "1.3"
      ]
     },
     "execution_count": 28,
     "metadata": {},
     "output_type": "execute_result"
    }
   ],
   "source": [
    "# Equation (1)\n",
    "dataCenterEnergy = dataCenterIntensity * durationStreaming\n",
    "dataCenterEnergy"
   ]
  },
  {
   "cell_type": "markdown",
   "metadata": {},
   "source": [
    "### Transmission - core & access\n",
    "\n",
    "Carbon Trust value = 20 Wh/hour."
   ]
  },
  {
   "cell_type": "code",
   "execution_count": 29,
   "metadata": {},
   "outputs": [],
   "source": [
    "energyFixedC = float  # Fixed network energy consumption (E_FN)\n",
    "intensityFixed = 0.0065  # Energy intensity of fixed network transmission (I_FN) kWh/GB (pg43, Table 3)\n",
    "# proportionFixed = ? # proportion of viewing time over fixed network at data transmission rate R_i relative to the entire streaming service (P_FN,i)\n",
    "energyMobileC = float  # Mobile network energy consumption (E_MN)\n",
    "intensityMobile = (\n",
    "    0.1  # Energy intensity of mobile network transmission (I_MN) kWh/GB (pg43, Table 3)\n",
    ")\n",
    "# proportionMobile = ? # Proportion of viewing time over mobile network at data transmission rate R_i relative to the entire streaming service (P_MN,i)"
   ]
  },
  {
   "cell_type": "code",
   "execution_count": 30,
   "metadata": {},
   "outputs": [
    {
     "data": {
      "text/plain": [
       "19.5"
      ]
     },
     "execution_count": 30,
     "metadata": {},
     "output_type": "execute_result"
    }
   ],
   "source": [
    "# Equation (2) - single viewing scenario\n",
    "energyFixedC = intensityFixed * durationStreaming * dataTransmissionRate  # kWh\n",
    "energyFixedCWh = energyFixedC * 1000  # Wh\n",
    "energyFixedCWh  # Pg 52, Table 4 = 20 Wh/hour"
   ]
  },
  {
   "cell_type": "code",
   "execution_count": 31,
   "metadata": {},
   "outputs": [
    {
     "data": {
      "text/plain": [
       "0.30000000000000004"
      ]
     },
     "execution_count": 31,
     "metadata": {},
     "output_type": "execute_result"
    }
   ],
   "source": [
    "# Equation (4) - single viewing scenario\n",
    "energyMobileC = intensityMobile * durationStreaming * dataTransmissionRate  # kWh\n",
    "energyMobileC"
   ]
  },
  {
   "cell_type": "markdown",
   "metadata": {},
   "source": [
    "### Transmission - home router\n",
    "\n",
    "Carbon Trust value = 71 Wh/hour."
   ]
  },
  {
   "cell_type": "code",
   "execution_count": 32,
   "metadata": {},
   "outputs": [],
   "source": [
    "energyHomeRouterC = float  # Energy consumption of the home router (E_HR)\n",
    "intensityHomeRouter = (\n",
    "    0.025  # Energy intensity of home router transmission (I_HR) kWh/GB (pg43, Table 3)\n",
    ")"
   ]
  },
  {
   "cell_type": "code",
   "execution_count": 33,
   "metadata": {},
   "outputs": [
    {
     "data": {
      "text/plain": [
       "75.00000000000001"
      ]
     },
     "execution_count": 33,
     "metadata": {},
     "output_type": "execute_result"
    }
   ],
   "source": [
    "# Equation (6) - single viewing scenario\n",
    "energyHomeRouterC = (\n",
    "    intensityHomeRouter * durationStreaming * dataTransmissionRate\n",
    ")  # kWh\n",
    "energyHomeRouterCWh = energyHomeRouterC * 1000  # Wh\n",
    "energyHomeRouterCWh  # Pg 52, Table 4 = 71 Wh/hour"
   ]
  },
  {
   "cell_type": "markdown",
   "metadata": {},
   "source": [
    "### End-user devices\n",
    "\n",
    "Carbon Trust value = 10 Wh/hour (TV Peripheral) + 86 Wh/hour (screens)."
   ]
  },
  {
   "cell_type": "code",
   "execution_count": 34,
   "metadata": {},
   "outputs": [],
   "source": [
    "energyDevice = float  # Energy consumption of the device (E_VD)\n",
    "# powerScreens = 22 # Average power consumption of screens (W_s) W (pg 101, Table 10)\n",
    "powerScreens = 86  # W (pg 52, Table 4)\n",
    "# powerPeripherals = 0 # Average power consumption of peripherals (W_p) W (pg 101, Table 10)\n",
    "powerPeripherals = 10  # W (pg 52, Table 4)\n",
    "# proportionScreens = ? # Proportion of viewing time at W_s,i relative to the entire streaming service\n",
    "# proportionPeripherals = ? # Proportion of viewing time at W_p,i relative to the entire streaming service"
   ]
  },
  {
   "cell_type": "code",
   "execution_count": 35,
   "metadata": {},
   "outputs": [
    {
     "data": {
      "text/plain": [
       "96"
      ]
     },
     "execution_count": 35,
     "metadata": {},
     "output_type": "execute_result"
    }
   ],
   "source": [
    "energyDevice = (powerScreens + powerPeripherals) * durationStreaming\n",
    "energyDevice  # Wh/hour = 96 (pg 52, Table 4)"
   ]
  },
  {
   "cell_type": "markdown",
   "metadata": {},
   "source": [
    "### Totals\n",
    "\n",
    "Carbon Trust value = 188 Wh/hour."
   ]
  },
  {
   "cell_type": "code",
   "execution_count": 36,
   "metadata": {},
   "outputs": [
    {
     "data": {
      "text/plain": [
       "191.8"
      ]
     },
     "execution_count": 36,
     "metadata": {},
     "output_type": "execute_result"
    }
   ],
   "source": [
    "# energyVideoStreamingC = dataCenterEnergy + energyFixedC + energyMobileC + energyHomeRouterC + energyDevice\n",
    "energyVideoStreamingC = (\n",
    "    dataCenterEnergy + energyFixedCWh + energyHomeRouterCWh + energyDevice\n",
    ")\n",
    "energyVideoStreamingC  # Wh/hour = 188 (pg 52, Table 4)"
   ]
  },
  {
   "cell_type": "markdown",
   "metadata": {},
   "source": [
    "## Power model\n",
    "\n",
    "Results not provided, but the report says: \"using the power models for fixed\n",
    "networks accounted for approximately 60% of the total measured energy expected\"\n",
    "(pg 66)."
   ]
  },
  {
   "cell_type": "markdown",
   "metadata": {},
   "source": [
    "### Global parameters"
   ]
  },
  {
   "cell_type": "code",
   "execution_count": 37,
   "metadata": {},
   "outputs": [],
   "source": [
    "idleTimeFactor = 3  # Idle time allocation factor (F)\n",
    "\n",
    "qtyActiveDevices = float  # Quantity of active devices per fixed line connection (Q_A)\n",
    "qtyUsers = 2.3  # Quantity of users per fixed line (Q_U) - UK (pg 101, Table 11)\n",
    "qtyDevices = 6.9  # Quantity of devices per user (Q_D) - UK (pg 101, Table 11)\n",
    "\n",
    "activeDeviceFactor = 0.5  # Active device factor as a proportion of total devices (A)"
   ]
  },
  {
   "cell_type": "code",
   "execution_count": 38,
   "metadata": {},
   "outputs": [
    {
     "data": {
      "text/plain": [
       "7.935"
      ]
     },
     "execution_count": 38,
     "metadata": {},
     "output_type": "execute_result"
    }
   ],
   "source": [
    "qtyActiveDevices = qtyUsers * qtyDevices * activeDeviceFactor\n",
    "qtyActiveDevices"
   ]
  },
  {
   "cell_type": "markdown",
   "metadata": {},
   "source": [
    "### Transmission - fixed network\n",
    "\n",
    "Carbon Trust value = 12 Wh/hour (60% of the conventional value, assumption TBC)."
   ]
  },
  {
   "cell_type": "code",
   "execution_count": 39,
   "metadata": {},
   "outputs": [],
   "source": [
    "energyFixedP = float  # Energy consumption over the fixed network (E_FN)\n",
    "baseloadFixedCore = 1.5  # Baseload fixed core network element per fixed line connection (B_FN,C) W/line (pg 62, Table 5)\n",
    "baseloadFixedAccess = 5  # Baseload fixed access network element per fixed line connection (B_FN,A) W/line (pg 62, Table 5)\n",
    "dynamicFixedCore = (\n",
    "    0.03  # Dynamic fixed core network component (V_FN,C) W/Mbps (pg 62, Table 5)\n",
    ")\n",
    "dynamicFixedAccess = (\n",
    "    0.02  # Dynamic fixed access network component (V_FN,A) W/bitrate% (pg 62, Table 5)\n",
    ")\n",
    "bandwidthFixed = 75  # Bandwidth of the fixed line connection (S) Mbps (pg 62, Table 5)"
   ]
  },
  {
   "cell_type": "code",
   "execution_count": 40,
   "metadata": {},
   "outputs": [
    {
     "data": {
      "text/plain": [
       "2.6274669187145556"
      ]
     },
     "execution_count": 40,
     "metadata": {},
     "output_type": "execute_result"
    }
   ],
   "source": [
    "energyFixedP = (\n",
    "    ((baseloadFixedCore + baseloadFixedAccess) / qtyActiveDevices) * idleTimeFactor\n",
    "    + (dynamicFixedCore + (dynamicFixedAccess / bandwidthFixed) * 100)\n",
    "    * dataTransmissionRate\n",
    ") * durationStreaming\n",
    "energyFixedP  # Wh"
   ]
  },
  {
   "cell_type": "markdown",
   "metadata": {},
   "source": [
    "### Transmission - mobile network"
   ]
  },
  {
   "cell_type": "code",
   "execution_count": 41,
   "metadata": {},
   "outputs": [],
   "source": [
    "energyMobileP = float  # Energy consumption over the mobile network (E_MN)\n",
    "baseloadMobileCore = 0.2  # Baseload mobile core network element per subscriber (B_MN,C) W/subscriber (pg 62, Table 5)\n",
    "baseloadMobileAccess = 1  # Baseload mobile access network element per subscriber (B_MN,A) W/subscriber (pg 62, Table 5)\n",
    "dynamicMobileCore = (\n",
    "    0.03  # Dynamic mobile core network dynamic element (V_MN,C) W/Mbps (pg 62, Table 5)\n",
    ")\n",
    "dynamicMobileAccess = 1.5  # Dynamic mobile access network dynamic element (V_MN,A) W/Mbps (pg 62, Table 5)"
   ]
  },
  {
   "cell_type": "code",
   "execution_count": 42,
   "metadata": {},
   "outputs": [
    {
     "data": {
      "text/plain": [
       "5.79"
      ]
     },
     "execution_count": 42,
     "metadata": {},
     "output_type": "execute_result"
    }
   ],
   "source": [
    "energyMobileP = (\n",
    "    baseloadMobileCore\n",
    "    + baseloadMobileAccess\n",
    "    + (dynamicMobileCore + dynamicMobileAccess) * dataTransmissionRate\n",
    ") * durationStreaming\n",
    "\n",
    "energyMobileP"
   ]
  },
  {
   "cell_type": "markdown",
   "metadata": {},
   "source": [
    "### Transmission - home router\n",
    "\n",
    "Carbon Trust value = 42.6 Wh/hour (60% of the conventional value, assumption\n",
    "TBC)."
   ]
  },
  {
   "cell_type": "code",
   "execution_count": 43,
   "metadata": {},
   "outputs": [],
   "source": [
    "energyHomeRouterP = float  # Energy consumption of the home router (E_HR)\n",
    "baseloadHomeRouter = (\n",
    "    10  # Baseload power consumption of the home router (B_HR) W/line (pg 62, Table 5)\n",
    ")"
   ]
  },
  {
   "cell_type": "code",
   "execution_count": 44,
   "metadata": {},
   "outputs": [
    {
     "data": {
      "text/plain": [
       "3.7807183364839316"
      ]
     },
     "execution_count": 44,
     "metadata": {},
     "output_type": "execute_result"
    }
   ],
   "source": [
    "energyHomeRouterP = (\n",
    "    (baseloadHomeRouter / qtyActiveDevices) * idleTimeFactor * durationStreaming\n",
    ")\n",
    "energyHomeRouterP  # Wh"
   ]
  },
  {
   "cell_type": "markdown",
   "metadata": {},
   "source": [
    "### Totals\n",
    "\n",
    "Carbon Trust value = 151.6 Wh/hour (60% of the conventional value, assumption\n",
    "TBC)."
   ]
  },
  {
   "cell_type": "code",
   "execution_count": 45,
   "metadata": {},
   "outputs": [
    {
     "data": {
      "text/plain": [
       "103.70818525519849"
      ]
     },
     "execution_count": 45,
     "metadata": {},
     "output_type": "execute_result"
    }
   ],
   "source": [
    "energyVideoStreamingP = (\n",
    "    dataCenterEnergy + energyFixedP + energyHomeRouterP + energyDevice\n",
    ")\n",
    "energyVideoStreamingP  # Wh/hour"
   ]
  },
  {
   "cell_type": "markdown",
   "metadata": {},
   "source": [
    "## Comparison"
   ]
  },
  {
   "cell_type": "code",
   "execution_count": 46,
   "metadata": {},
   "outputs": [
    {
     "name": "stdout",
     "output_type": "stream",
     "text": [
      "Con: Transmission (fixed) = 19.5 Wh/hour\n",
      "Pow: Transmission (fixed) = 2.6 Wh/hour\n",
      "Con: Home router = 75.0 Wh/hour\n",
      "Pow: Home router = 3.8 Wh/hour\n",
      "Con: Total = 191.8 Wh/hour\n",
      "Pow: Total = 103.7 Wh/hour\n"
     ]
    }
   ],
   "source": [
    "print(f\"Con: Transmission (fixed) = {energyFixedCWh:,.1f} Wh/hour\")\n",
    "print(f\"Pow: Transmission (fixed) = {energyFixedP:,.1f} Wh/hour\")\n",
    "print(f\"Con: Home router = {energyHomeRouterCWh:,.1f} Wh/hour\")\n",
    "print(f\"Pow: Home router = {energyHomeRouterP:,.1f} Wh/hour\")\n",
    "print(f\"Con: Total = {energyVideoStreamingC:,.1f} Wh/hour\")\n",
    "print(f\"Pow: Total = {energyVideoStreamingP:,.1f} Wh/hour\")"
   ]
  }
 ],
 "metadata": {
  "kernelspec": {
   "display_name": "Python 3.10.6 ('.venv': venv)",
   "language": "python",
   "name": "python3"
  },
  "language_info": {
   "codemirror_mode": {
    "name": "ipython",
    "version": 3
   },
   "file_extension": ".py",
   "mimetype": "text/x-python",
   "name": "python",
   "nbconvert_exporter": "python",
   "pygments_lexer": "ipython3",
   "version": "3.10.8"
  },
  "vscode": {
   "interpreter": {
    "hash": "02d002cb74604633fa70447ad35dca6bfc11bd78bf991ef0b03317a774e96b6a"
   }
  }
 },
 "nbformat": 4,
 "nbformat_minor": 2
}
