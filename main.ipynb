{
 "cells": [
  {
   "attachments": {},
   "cell_type": "markdown",
   "metadata": {},
   "source": [
    "# Network energy\n",
    "\n",
    "The purpose of this notebook is to reproduce two network energy models:\n",
    "\n",
    "1. Conventional model based on average intensity from [Carbon Trust,\n",
    "   2021](https://www.carbontrust.com/resources/carbon-impact-of-video-streaming)\n",
    "   and with results in Table 4 on pg 52 of the report.\n",
    "2. Power model from [Malmodin,\n",
    "   2020](https://online.electronicsgoesgreen.org/wp-content/uploads/2020/10/Proceedings_EGG2020_v2.pdf)\n",
    "   with results in Figure 5 and section 5.\n",
    "\n",
    "Copies of both papers are provided in the `assets/` folder."
   ]
  },
  {
   "cell_type": "markdown",
   "metadata": {},
   "source": [
    "## Imports"
   ]
  },
  {
   "cell_type": "code",
   "execution_count": 375,
   "metadata": {},
   "outputs": [],
   "source": [
    "%%capture\n",
    "# ^ Hide the output of this cell (must be on the first line)\n",
    "\n",
    "# Install dependencies\n",
    "%pip install -r requirements.txt"
   ]
  },
  {
   "cell_type": "markdown",
   "metadata": {},
   "source": [
    "## Conventional model\n",
    "\n",
    "Carbon Trust report pg40-46."
   ]
  },
  {
   "cell_type": "markdown",
   "metadata": {},
   "source": [
    "### Global parameters"
   ]
  },
  {
   "cell_type": "code",
   "execution_count": 376,
   "metadata": {},
   "outputs": [],
   "source": [
    "energyVideoStreaming = float  # Energy consumption of video streaming (E_V)\n",
    "carbonVideoStreaming = float  # Carbon emissions of video streaming (C_V)\n",
    "gridEmissionsFactor = 1  # ??? Emissions factor of the grid for region, n (EF_g,n)\n",
    "\n",
    "durationStreaming = 1  # Duration of video streaming (D) Probably hours, not specified\n",
    "dataTransmissionRate = (\n",
    "    3  # Data transmission rate (R) GB/hr Using FHD value, not specified (pg43, Table 3)\n",
    ")"
   ]
  },
  {
   "cell_type": "markdown",
   "metadata": {},
   "source": [
    "### Data centers & CDNs\n",
    "\n",
    "Carbon Trust value = 1 Wh/hour."
   ]
  },
  {
   "cell_type": "code",
   "execution_count": 377,
   "metadata": {},
   "outputs": [],
   "source": [
    "dataCenterEnergy = float  # Data center energy consumption (E_DC)\n",
    "dataCenterIntensity = 1.3  # Data center intensity (I_DC) Wh/hr (pg43, Table 3)"
   ]
  },
  {
   "cell_type": "code",
   "execution_count": 378,
   "metadata": {},
   "outputs": [
    {
     "data": {
      "text/plain": [
       "1.3"
      ]
     },
     "execution_count": 378,
     "metadata": {},
     "output_type": "execute_result"
    }
   ],
   "source": [
    "# Equation (1)\n",
    "dataCenterEnergy = dataCenterIntensity * durationStreaming\n",
    "dataCenterEnergy"
   ]
  },
  {
   "cell_type": "markdown",
   "metadata": {},
   "source": [
    "### Transmission - core & access\n",
    "\n",
    "Carbon Trust value = 20 Wh/hour."
   ]
  },
  {
   "cell_type": "code",
   "execution_count": 379,
   "metadata": {},
   "outputs": [],
   "source": [
    "energyFixedC = float  # Fixed network energy consumption (E_FN)\n",
    "intensityFixed = 0.0065  # Energy intensity of fixed network transmission (I_FN) kWh/GB (pg43, Table 3)\n",
    "# proportionFixed = ? # proportion of viewing time over fixed network at data transmission rate R_i relative to the entire streaming service (P_FN,i)\n",
    "energyMobileC = float  # Mobile network energy consumption (E_MN)\n",
    "intensityMobile = (\n",
    "    0.1  # Energy intensity of mobile network transmission (I_MN) kWh/GB (pg43, Table 3)\n",
    ")\n",
    "# proportionMobile = ? # Proportion of viewing time over mobile network at data transmission rate R_i relative to the entire streaming service (P_MN,i)"
   ]
  },
  {
   "cell_type": "code",
   "execution_count": 380,
   "metadata": {},
   "outputs": [
    {
     "data": {
      "text/plain": [
       "19.5"
      ]
     },
     "execution_count": 380,
     "metadata": {},
     "output_type": "execute_result"
    }
   ],
   "source": [
    "# Equation (2) - single viewing scenario\n",
    "energyFixedC = intensityFixed * durationStreaming * dataTransmissionRate  # kWh\n",
    "energyFixedCWh = energyFixedC * 1000  # Wh\n",
    "energyFixedCWh  # Pg 52, Table 4 = 20 Wh/hour"
   ]
  },
  {
   "cell_type": "code",
   "execution_count": 381,
   "metadata": {},
   "outputs": [
    {
     "data": {
      "text/plain": [
       "0.30000000000000004"
      ]
     },
     "execution_count": 381,
     "metadata": {},
     "output_type": "execute_result"
    }
   ],
   "source": [
    "# Equation (4) - single viewing scenario\n",
    "energyMobileC = intensityMobile * durationStreaming * dataTransmissionRate  # kWh\n",
    "energyMobileC"
   ]
  },
  {
   "attachments": {},
   "cell_type": "markdown",
   "metadata": {},
   "source": [
    "### Home router (Customer Premises Equipment)\n",
    "\n",
    "Carbon Trust value = 71 Wh/hour."
   ]
  },
  {
   "cell_type": "code",
   "execution_count": 382,
   "metadata": {},
   "outputs": [],
   "source": [
    "energyHomeRouterC = float  # Energy consumption of the home router (E_HR)\n",
    "intensityHomeRouter = (\n",
    "    0.025  # Energy intensity of home router transmission (I_HR) kWh/GB (pg43, Table 3)\n",
    ")"
   ]
  },
  {
   "cell_type": "code",
   "execution_count": 383,
   "metadata": {},
   "outputs": [
    {
     "data": {
      "text/plain": [
       "75.00000000000001"
      ]
     },
     "execution_count": 383,
     "metadata": {},
     "output_type": "execute_result"
    }
   ],
   "source": [
    "# Equation (6) - single viewing scenario\n",
    "energyHomeRouterC = (\n",
    "    intensityHomeRouter * durationStreaming * dataTransmissionRate\n",
    ")  # kWh\n",
    "energyHomeRouterCWh = energyHomeRouterC * 1000  # Wh\n",
    "energyHomeRouterCWh  # Pg 52, Table 4 = 71 Wh/hour"
   ]
  },
  {
   "cell_type": "markdown",
   "metadata": {},
   "source": [
    "### End-user devices\n",
    "\n",
    "Carbon Trust value = 10 Wh/hour (TV Peripheral) + 86 Wh/hour (screens)."
   ]
  },
  {
   "cell_type": "code",
   "execution_count": 384,
   "metadata": {},
   "outputs": [],
   "source": [
    "energyDevice = float  # Energy consumption of the device (E_VD)\n",
    "# powerScreens = 22 # Average power consumption of screens (W_s) W (pg 101, Table 10)\n",
    "powerScreens = 86  # W (pg 52, Table 4)\n",
    "# powerPeripherals = 0 # Average power consumption of peripherals (W_p) W (pg 101, Table 10)\n",
    "powerPeripherals = 10  # W (pg 52, Table 4)\n",
    "# proportionScreens = ? # Proportion of viewing time at W_s,i relative to the entire streaming service\n",
    "# proportionPeripherals = ? # Proportion of viewing time at W_p,i relative to the entire streaming service"
   ]
  },
  {
   "cell_type": "code",
   "execution_count": 385,
   "metadata": {},
   "outputs": [
    {
     "data": {
      "text/plain": [
       "96"
      ]
     },
     "execution_count": 385,
     "metadata": {},
     "output_type": "execute_result"
    }
   ],
   "source": [
    "energyDevice = (powerScreens + powerPeripherals) * durationStreaming\n",
    "energyDevice  # Wh/hour = 96 (pg 52, Table 4)"
   ]
  },
  {
   "cell_type": "markdown",
   "metadata": {},
   "source": [
    "### Totals\n",
    "\n",
    "Carbon Trust value = 188 Wh/hour."
   ]
  },
  {
   "cell_type": "code",
   "execution_count": 386,
   "metadata": {},
   "outputs": [
    {
     "data": {
      "text/plain": [
       "191.8"
      ]
     },
     "execution_count": 386,
     "metadata": {},
     "output_type": "execute_result"
    }
   ],
   "source": [
    "# energyVideoStreamingC = dataCenterEnergy + energyFixedC + energyMobileC + energyHomeRouterC + energyDevice\n",
    "energyVideoStreamingC = (\n",
    "    dataCenterEnergy + energyFixedCWh + energyHomeRouterCWh + energyDevice\n",
    ")\n",
    "energyVideoStreamingC  # Wh/hour = 188 (pg 52, Table 4)"
   ]
  },
  {
   "attachments": {},
   "cell_type": "markdown",
   "metadata": {},
   "source": [
    "## Power model\n",
    "\n",
    "The Carbon Trust report also implements this model, but does not provide any\n",
    "results. Instead, it says \"using the power models for fixed networks accounted\n",
    "for approximately 60% of the total measured energy expected\" (pg 66).\n",
    "\n",
    "As such, the implementation here is taken from [the original paper by\n",
    "Malmodin](https://online.electronicsgoesgreen.org/wp-content/uploads/2020/10/Proceedings_EGG2020_v2.pdf)."
   ]
  },
  {
   "attachments": {},
   "cell_type": "markdown",
   "metadata": {},
   "source": [
    "### Global parameters"
   ]
  },
  {
   "cell_type": "code",
   "execution_count": 387,
   "metadata": {},
   "outputs": [],
   "source": [
    "fixedCapacity = 100  # Mbps\n",
    "mobileCapacity = 10  # Mbps\n",
    "netflixMbps = 4  # Mbps, from Malmodin pg 94, Figure 8"
   ]
  },
  {
   "attachments": {},
   "cell_type": "markdown",
   "metadata": {},
   "source": [
    "### Data centers & CDNs\n",
    "\n",
    "Malmodin values from Table 5."
   ]
  },
  {
   "cell_type": "code",
   "execution_count": 388,
   "metadata": {},
   "outputs": [],
   "source": [
    "powerDataCenter = 7  # W"
   ]
  },
  {
   "attachments": {},
   "cell_type": "markdown",
   "metadata": {},
   "source": [
    "### Transmission - core\n",
    "\n",
    "Malmodin values from section 4.5."
   ]
  },
  {
   "cell_type": "code",
   "execution_count": 389,
   "metadata": {},
   "outputs": [],
   "source": [
    "powerFixedCore = 1.5 + (0.03 * fixedCapacity)  # W + W/Mbps\n",
    "powerMobileCore = 0.2 + (0.03 * mobileCapacity)  # W + W/Mbps"
   ]
  },
  {
   "attachments": {},
   "cell_type": "markdown",
   "metadata": {},
   "source": [
    "### Customer Premises Equipment\n",
    "\n",
    "Malmodin values from section 5, Figure 8."
   ]
  },
  {
   "cell_type": "code",
   "execution_count": 390,
   "metadata": {},
   "outputs": [],
   "source": [
    "powerFixedCPEIdle = 16.5  # W\n",
    "powerFixedCPEUse = (\n",
    "    0.02 * (fixedCapacity / 100) * 100\n",
    ")  # W/% where 100% = 100Mbps if fixedCapacity = 100Mbps\n",
    "powerMobileCPEIdle = 1  # W\n",
    "powerMobileCPEUse = 1.5 * mobileCapacity  # W + W/Mbps"
   ]
  },
  {
   "attachments": {},
   "cell_type": "markdown",
   "metadata": {},
   "source": [
    "### Total energy\n",
    "\n",
    "Calculate the total energy of a 1hour Netflix streaming session on a 100Mbps\n",
    "fixed line where the video data transmission is 4Mbps. Malmodin value = 25 Wh\n",
    "(pg 94)."
   ]
  },
  {
   "cell_type": "code",
   "execution_count": 391,
   "metadata": {},
   "outputs": [
    {
     "data": {
      "text/plain": [
       "21.08"
      ]
     },
     "execution_count": 391,
     "metadata": {},
     "output_type": "execute_result"
    }
   ],
   "source": [
    "netflixEnergyFixed = ((0.02 * (netflixMbps / 100) * 100) + powerFixedCPEIdle) + (  # CPE\n",
    "    1.5 + (0.03 * fixedCapacity)\n",
    ") * durationStreaming  # Transmission - core\n",
    "netflixEnergyFixed  # Wh"
   ]
  }
 ],
 "metadata": {
  "kernelspec": {
   "display_name": "Python 3.10.6 ('.venv': venv)",
   "language": "python",
   "name": "python3"
  },
  "language_info": {
   "codemirror_mode": {
    "name": "ipython",
    "version": 3
   },
   "file_extension": ".py",
   "mimetype": "text/x-python",
   "name": "python",
   "nbconvert_exporter": "python",
   "pygments_lexer": "ipython3",
   "version": "3.10.8"
  },
  "vscode": {
   "interpreter": {
    "hash": "02d002cb74604633fa70447ad35dca6bfc11bd78bf991ef0b03317a774e96b6a"
   }
  }
 },
 "nbformat": 4,
 "nbformat_minor": 2
}
